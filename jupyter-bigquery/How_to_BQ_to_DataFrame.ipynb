{
 "cells": [
  {
   "cell_type": "code",
   "execution_count": 1,
   "metadata": {},
   "outputs": [],
   "source": [
    "from google.cloud import bigquery\n",
    "import os"
   ]
  },
  {
   "cell_type": "markdown",
   "metadata": {},
   "source": [
    "Provide BigQuery Credentials"
   ]
  },
  {
   "cell_type": "code",
   "execution_count": 2,
   "metadata": {},
   "outputs": [],
   "source": [
    "os.environ['GOOGLE_APPLICATION_CREDENTIALS'] = r'/Users/jason/GCP/data-project-21a2132a2e60.json'"
   ]
  },
  {
   "cell_type": "markdown",
   "metadata": {},
   "source": [
    "Construct BigQuery Query to retrieve data"
   ]
  },
  {
   "cell_type": "code",
   "execution_count": 3,
   "metadata": {},
   "outputs": [],
   "source": [
    "query = \"\"\"\n",
    "select *\n",
    "from `bigquery-public-data.baseball.schedules`\n",
    "\"\"\""
   ]
  },
  {
   "cell_type": "markdown",
   "metadata": {},
   "source": [
    "Instantiate and retrieve query results to a dataframe"
   ]
  },
  {
   "cell_type": "code",
   "execution_count": 4,
   "metadata": {},
   "outputs": [],
   "source": [
    "bq_client = bigquery.Client()\n",
    "df = bq_client.query(query).result().to_dataframe()"
   ]
  },
  {
   "cell_type": "code",
   "execution_count": 5,
   "metadata": {},
   "outputs": [
    {
     "data": {
      "text/html": [
       "<div>\n",
       "<style scoped>\n",
       "    .dataframe tbody tr th:only-of-type {\n",
       "        vertical-align: middle;\n",
       "    }\n",
       "\n",
       "    .dataframe tbody tr th {\n",
       "        vertical-align: top;\n",
       "    }\n",
       "\n",
       "    .dataframe thead th {\n",
       "        text-align: right;\n",
       "    }\n",
       "</style>\n",
       "<table border=\"1\" class=\"dataframe\">\n",
       "  <thead>\n",
       "    <tr style=\"text-align: right;\">\n",
       "      <th></th>\n",
       "      <th>gameId</th>\n",
       "      <th>gameNumber</th>\n",
       "      <th>seasonId</th>\n",
       "      <th>year</th>\n",
       "      <th>type</th>\n",
       "      <th>dayNight</th>\n",
       "      <th>duration</th>\n",
       "      <th>duration_minutes</th>\n",
       "      <th>homeTeamId</th>\n",
       "      <th>homeTeamName</th>\n",
       "      <th>awayTeamId</th>\n",
       "      <th>awayTeamName</th>\n",
       "      <th>startTime</th>\n",
       "      <th>attendance</th>\n",
       "      <th>status</th>\n",
       "      <th>created</th>\n",
       "    </tr>\n",
       "  </thead>\n",
       "  <tbody>\n",
       "    <tr>\n",
       "      <th>0</th>\n",
       "      <td>e14b6493-9e7f-404f-840a-8a680cc364bf</td>\n",
       "      <td>1</td>\n",
       "      <td>565de4be-dc80-4849-a7e1-54bc79156cc8</td>\n",
       "      <td>2016</td>\n",
       "      <td>REG</td>\n",
       "      <td>D</td>\n",
       "      <td>3:07</td>\n",
       "      <td>187</td>\n",
       "      <td>03556285-bdbb-4576-a06d-42f71f46ddc5</td>\n",
       "      <td>Marlins</td>\n",
       "      <td>55714da8-fcaf-4574-8443-59bfb511a524</td>\n",
       "      <td>Cubs</td>\n",
       "      <td>2016-06-26 17:10:00+00:00</td>\n",
       "      <td>27318</td>\n",
       "      <td>closed</td>\n",
       "      <td>2016-10-06 06:25:15+00:00</td>\n",
       "    </tr>\n",
       "    <tr>\n",
       "      <th>1</th>\n",
       "      <td>1f32b347-cbcb-4c31-a145-0e685306d168</td>\n",
       "      <td>1</td>\n",
       "      <td>565de4be-dc80-4849-a7e1-54bc79156cc8</td>\n",
       "      <td>2016</td>\n",
       "      <td>REG</td>\n",
       "      <td>D</td>\n",
       "      <td>3:09</td>\n",
       "      <td>189</td>\n",
       "      <td>03556285-bdbb-4576-a06d-42f71f46ddc5</td>\n",
       "      <td>Marlins</td>\n",
       "      <td>55714da8-fcaf-4574-8443-59bfb511a524</td>\n",
       "      <td>Cubs</td>\n",
       "      <td>2016-06-25 20:10:00+00:00</td>\n",
       "      <td>29457</td>\n",
       "      <td>closed</td>\n",
       "      <td>2016-10-06 06:25:15+00:00</td>\n",
       "    </tr>\n",
       "    <tr>\n",
       "      <th>2</th>\n",
       "      <td>0c2292d1-7398-48be-bf8e-b41dad5e1a43</td>\n",
       "      <td>1</td>\n",
       "      <td>565de4be-dc80-4849-a7e1-54bc79156cc8</td>\n",
       "      <td>2016</td>\n",
       "      <td>REG</td>\n",
       "      <td>D</td>\n",
       "      <td>2:45</td>\n",
       "      <td>165</td>\n",
       "      <td>12079497-e414-450a-8bf2-29f91de646bf</td>\n",
       "      <td>Braves</td>\n",
       "      <td>55714da8-fcaf-4574-8443-59bfb511a524</td>\n",
       "      <td>Cubs</td>\n",
       "      <td>2016-06-11 20:10:00+00:00</td>\n",
       "      <td>43114</td>\n",
       "      <td>closed</td>\n",
       "      <td>2016-10-06 06:25:15+00:00</td>\n",
       "    </tr>\n",
       "    <tr>\n",
       "      <th>3</th>\n",
       "      <td>8fbec734-a15a-42ab-8d51-60790de7750b</td>\n",
       "      <td>1</td>\n",
       "      <td>565de4be-dc80-4849-a7e1-54bc79156cc8</td>\n",
       "      <td>2016</td>\n",
       "      <td>REG</td>\n",
       "      <td>D</td>\n",
       "      <td>3:42</td>\n",
       "      <td>222</td>\n",
       "      <td>12079497-e414-450a-8bf2-29f91de646bf</td>\n",
       "      <td>Braves</td>\n",
       "      <td>55714da8-fcaf-4574-8443-59bfb511a524</td>\n",
       "      <td>Cubs</td>\n",
       "      <td>2016-06-12 17:35:00+00:00</td>\n",
       "      <td>31625</td>\n",
       "      <td>closed</td>\n",
       "      <td>2016-10-06 06:25:15+00:00</td>\n",
       "    </tr>\n",
       "    <tr>\n",
       "      <th>4</th>\n",
       "      <td>89e514d5-fbf5-4b9d-bdac-6ca45bfd18dd</td>\n",
       "      <td>1</td>\n",
       "      <td>565de4be-dc80-4849-a7e1-54bc79156cc8</td>\n",
       "      <td>2016</td>\n",
       "      <td>REG</td>\n",
       "      <td>D</td>\n",
       "      <td>2:44</td>\n",
       "      <td>164</td>\n",
       "      <td>2142e1ba-3b40-445c-b8bb-f1f8b1054220</td>\n",
       "      <td>Phillies</td>\n",
       "      <td>55714da8-fcaf-4574-8443-59bfb511a524</td>\n",
       "      <td>Cubs</td>\n",
       "      <td>2016-06-08 17:05:00+00:00</td>\n",
       "      <td>28650</td>\n",
       "      <td>closed</td>\n",
       "      <td>2016-10-06 06:25:15+00:00</td>\n",
       "    </tr>\n",
       "  </tbody>\n",
       "</table>\n",
       "</div>"
      ],
      "text/plain": [
       "                                 gameId  gameNumber  \\\n",
       "0  e14b6493-9e7f-404f-840a-8a680cc364bf           1   \n",
       "1  1f32b347-cbcb-4c31-a145-0e685306d168           1   \n",
       "2  0c2292d1-7398-48be-bf8e-b41dad5e1a43           1   \n",
       "3  8fbec734-a15a-42ab-8d51-60790de7750b           1   \n",
       "4  89e514d5-fbf5-4b9d-bdac-6ca45bfd18dd           1   \n",
       "\n",
       "                               seasonId  year type dayNight duration  \\\n",
       "0  565de4be-dc80-4849-a7e1-54bc79156cc8  2016  REG        D     3:07   \n",
       "1  565de4be-dc80-4849-a7e1-54bc79156cc8  2016  REG        D     3:09   \n",
       "2  565de4be-dc80-4849-a7e1-54bc79156cc8  2016  REG        D     2:45   \n",
       "3  565de4be-dc80-4849-a7e1-54bc79156cc8  2016  REG        D     3:42   \n",
       "4  565de4be-dc80-4849-a7e1-54bc79156cc8  2016  REG        D     2:44   \n",
       "\n",
       "   duration_minutes                            homeTeamId homeTeamName  \\\n",
       "0               187  03556285-bdbb-4576-a06d-42f71f46ddc5      Marlins   \n",
       "1               189  03556285-bdbb-4576-a06d-42f71f46ddc5      Marlins   \n",
       "2               165  12079497-e414-450a-8bf2-29f91de646bf       Braves   \n",
       "3               222  12079497-e414-450a-8bf2-29f91de646bf       Braves   \n",
       "4               164  2142e1ba-3b40-445c-b8bb-f1f8b1054220     Phillies   \n",
       "\n",
       "                             awayTeamId awayTeamName  \\\n",
       "0  55714da8-fcaf-4574-8443-59bfb511a524         Cubs   \n",
       "1  55714da8-fcaf-4574-8443-59bfb511a524         Cubs   \n",
       "2  55714da8-fcaf-4574-8443-59bfb511a524         Cubs   \n",
       "3  55714da8-fcaf-4574-8443-59bfb511a524         Cubs   \n",
       "4  55714da8-fcaf-4574-8443-59bfb511a524         Cubs   \n",
       "\n",
       "                  startTime  attendance  status                   created  \n",
       "0 2016-06-26 17:10:00+00:00       27318  closed 2016-10-06 06:25:15+00:00  \n",
       "1 2016-06-25 20:10:00+00:00       29457  closed 2016-10-06 06:25:15+00:00  \n",
       "2 2016-06-11 20:10:00+00:00       43114  closed 2016-10-06 06:25:15+00:00  \n",
       "3 2016-06-12 17:35:00+00:00       31625  closed 2016-10-06 06:25:15+00:00  \n",
       "4 2016-06-08 17:05:00+00:00       28650  closed 2016-10-06 06:25:15+00:00  "
      ]
     },
     "execution_count": 5,
     "metadata": {},
     "output_type": "execute_result"
    }
   ],
   "source": [
    "df.head()"
   ]
  },
  {
   "cell_type": "code",
   "execution_count": 6,
   "metadata": {},
   "outputs": [
    {
     "data": {
      "text/plain": [
       "(2431, 16)"
      ]
     },
     "execution_count": 6,
     "metadata": {},
     "output_type": "execute_result"
    }
   ],
   "source": [
    "df.shape"
   ]
  }
 ],
 "metadata": {
  "kernelspec": {
   "display_name": "Python 3",
   "language": "python",
   "name": "python3"
  },
  "language_info": {
   "codemirror_mode": {
    "name": "ipython",
    "version": 3
   },
   "file_extension": ".py",
   "mimetype": "text/x-python",
   "name": "python",
   "nbconvert_exporter": "python",
   "pygments_lexer": "ipython3",
   "version": "3.7.7"
  }
 },
 "nbformat": 4,
 "nbformat_minor": 4
}
